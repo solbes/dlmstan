{
 "cells": [
  {
   "cell_type": "code",
   "execution_count": null,
   "id": "b8235168",
   "metadata": {},
   "outputs": [],
   "source": [
    "import numpy as np\n",
    "from cmdstanpy import cmdstan_path, CmdStanModel\n",
    "from pathlib import Path\n",
    "import matplotlib.pyplot as plt\n",
    "import json\n",
    "import pandas as pd"
   ]
  },
  {
   "cell_type": "markdown",
   "id": "23f70d07",
   "metadata": {},
   "source": [
    "## Nile example\n",
    "\n",
    "Let us consider here the following system fitted to the Nile river dataset often used to illustrate time series modeling. Check <url>https://mjlaine.github.io/dlm/dlmtut.html</url> for some more details about the example.\n",
    "\n",
    "\n",
    "<img src=\"https://latex.codecogs.com/svg.image?A&space;=&space;\\begin{bmatrix}1&space;&&space;1&space;\\\\0&space;&&space;1\\end{bmatrix},&space;\\&space;C&space;=&space;&space;\\begin{bmatrix}1&space;&&space;0&space;\\end{bmatrix},&space;\\&space;R&space;=&space;\\theta_1^2,&space;\\&space;Q&space;=&space;&space;\\begin{bmatrix}\\theta_2^2&space;&&space;0&space;\\\\0&space;&&space;\\theta_3^2&space;\\end{bmatrix}\" title=\"A = \\begin{bmatrix}1 & 1 \\\\0 & 1\\end{bmatrix}, \\ C = \\begin{bmatrix}1 & 0 \\end{bmatrix}, \\ R = \\theta_1^2, \\ Q = \\begin{bmatrix}\\theta_2^2 & 0 \\\\0 & \\theta_3^2 \\end{bmatrix}\" align=\"left\"/>"
   ]
  },
  {
   "cell_type": "markdown",
   "id": "649a099e",
   "metadata": {},
   "source": [
    "### 1) Define the functions that build the needed matrices\n",
    "\n",
    "Here, we write a Stan functions block that builds the matrices given the parameters. Note that the noise parameters are separated from the \"other\" parameters so that we can assign priors separately for them (e.g. enforce positivity). Note that here we don't have any model parameters, just some noise parameters. Note also that we don't have the $B$ matrix here, so we just define a dummy zero matrix so that we can apply the general DLM code."
   ]
  },
  {
   "cell_type": "code",
   "execution_count": null,
   "id": "c058b0c9",
   "metadata": {},
   "outputs": [],
   "source": [
    "nile_functions = \"\"\"\n",
    "functions {\n",
    "    matrix build_A(vector theta) {\n",
    "        matrix[2,2] A;\n",
    "        A[1,1] = 1;\n",
    "        A[1,2] = 1;\n",
    "        A[2,1] = 0;\n",
    "        A[2,2] = 1;\n",
    "        return A;\n",
    "    }\n",
    "    matrix build_B(vector theta) {\n",
    "        matrix[2,1] B;\n",
    "        B[1,1] = 0;\n",
    "        B[2,1] = 0;\n",
    "        return B;\n",
    "    }\n",
    "    matrix build_C(vector theta) {\n",
    "        matrix[1,2] C;\n",
    "        C[1,1] = 1;\n",
    "        C[1,2] = 0;\n",
    "        return C;\n",
    "    }\n",
    "    matrix build_Q(vector noise_theta) {\n",
    "        matrix[2,2] Q;\n",
    "        Q[1,1] = square(noise_theta[2]);\n",
    "        Q[2,2] = square(noise_theta[3]);\n",
    "        Q[1,2] = 0;\n",
    "        Q[2,1] = 0;\n",
    "        return Q;\n",
    "    }\n",
    "    matrix build_R(vector noise_theta) {\n",
    "        matrix[1,1] R;\n",
    "        R[1,1] = square(noise_theta[1]);\n",
    "        return R;\n",
    "    }\n",
    "}\n",
    "\"\"\""
   ]
  },
  {
   "cell_type": "markdown",
   "id": "ecf03e53",
   "metadata": {},
   "source": [
    "### 2) Compile the code with `CmdStanPy`\n",
    "\n",
    "First, we read the general DLM stan code and append the user-defined functions to the model file."
   ]
  },
  {
   "cell_type": "code",
   "execution_count": null,
   "id": "90863b34",
   "metadata": {},
   "outputs": [],
   "source": [
    "dlm_code = Path('../dlm.stan').read_text()\n",
    "Path('nile.stan').write_text(nile_functions + dlm_code);\n",
    "nile_model = CmdStanModel(stan_file='nile.stan')"
   ]
  },
  {
   "cell_type": "markdown",
   "id": "5b6dcd43",
   "metadata": {},
   "source": [
    "### 3) Construct the data\n",
    "\n",
    "The general DLM code always needs the same input data variables. Note that the vectors and matrices need to be given as python lists so that the serialization to JSON works."
   ]
  },
  {
   "cell_type": "code",
   "execution_count": null,
   "id": "bbde54f8",
   "metadata": {},
   "outputs": [],
   "source": [
    "y = [1120, 1160, 963, 1210, 1160, 1160, 813, 1230, 1370, 1140, 995, 935,\n",
    "     1110, 994, 1020, 960, 1180, 799, 958, 1140, 1100, 1210, 1150, 1250,\n",
    "     1260, 1220, 1030, 1100, 774, 840, 874, 694, 940, 833, 701, 916,\n",
    "     692, 1020, 1050,  969,  831, 726, 456, 824, 702, 1120, 1100, 832, 764,\n",
    "     821, 768, 845, 864, 862, 698, 845, 744, 796, 1040, 759, 781, 865,\n",
    "     845, 944, 984, 897, 822, 1010, 771, 676, 649, 846, 812, 742, 801,\n",
    "     1040, 860, 874, 848, 890, 744, 749, 838, 1050, 918, 986, 797, 923,\n",
    "     975, 815, 1020, 906, 901, 1170, 912, 746, 919, 718, 714, 740]\n",
    "\n",
    "nile_data = {\n",
    "    'N_obs': len(y),\n",
    "    'N_theta': 1, # dummy theta\n",
    "    'N_noise_theta': 3,\n",
    "    'state_dim': 2,\n",
    "    'input_dim': 1, # dummy input\n",
    "    'obs_dim': 1,\n",
    "    'Y_obs': [[yi] for yi in y],\n",
    "    'U_obs': len(y)*[[0.]], # dummy\n",
    "    'm0': [1100.0, 0.0],\n",
    "    'P0': [[200.**2, 0], [0, 1.**2]],\n",
    "    'theta_mu': [0.], # dummy\n",
    "    'theta_Sig': [[1.]], # dummy\n",
    "    'noise_mu': [100., 10., 10.],\n",
    "    'noise_Sig': [[10.**2, 0, 0], [0, 10**2, 0], [0,0,10**2]]\n",
    "}"
   ]
  },
  {
   "cell_type": "code",
   "execution_count": null,
   "id": "12d5ca08",
   "metadata": {},
   "outputs": [],
   "source": [
    "with open('nile_data.json', 'w') as f:\n",
    "    json.dump(nile_data, f)"
   ]
  },
  {
   "cell_type": "markdown",
   "id": "0d6b61f5",
   "metadata": {},
   "source": [
    "## 4) Fit the model with HMC\n",
    "\n",
    "Save the output files to a separate output folder to keep things clean. Print the fit object to get some details about the files that were produced."
   ]
  },
  {
   "cell_type": "code",
   "execution_count": null,
   "id": "0e51e06a",
   "metadata": {},
   "outputs": [],
   "source": [
    "nile_fit = nile_model.sample(data='nile_data.json', output_dir='output')\n",
    "print(nile_fit)"
   ]
  },
  {
   "cell_type": "markdown",
   "id": "b663257b",
   "metadata": {},
   "source": [
    "## 5) Access the parameters and plot results\n",
    "\n",
    "Let us draw the sampled states and parameters. Sampled parameters can be accessed with `CmdStanPy`:s helper `stan_variable`."
   ]
  },
  {
   "cell_type": "code",
   "execution_count": null,
   "id": "ec786fce",
   "metadata": {},
   "outputs": [],
   "source": [
    "draws_noise = nile_fit.stan_variable(name='noise_theta')\n",
    "draws_x = nile_fit.stan_variable(name='x_samples')"
   ]
  },
  {
   "cell_type": "code",
   "execution_count": null,
   "id": "f346c5cc",
   "metadata": {},
   "outputs": [],
   "source": [
    "plt.figure(figsize=(7,4))\n",
    "\n",
    "plt.plot(range(len(y)), draws_x[0::10,:,0].T, c='0.5', alpha=0.2)\n",
    "plt.plot(range(len(y)), np.quantile(draws_x[0:,:,0].T, [0.025, 0.975], axis=1).T, 'k--')\n",
    "plt.plot(range(len(y)), np.quantile(draws_x[0:,:,0].T, 0.5, axis=1), 'k-')\n",
    "plt.plot(range(len(y)), y, 'r.')\n",
    "\n",
    "plt.grid(True)\n",
    "plt.show()"
   ]
  },
  {
   "cell_type": "code",
   "execution_count": null,
   "id": "68c03d63",
   "metadata": {},
   "outputs": [],
   "source": [
    "pd.plotting.scatter_matrix(pd.DataFrame(draws_noise));"
   ]
  },
  {
   "cell_type": "code",
   "execution_count": null,
   "id": "151f49b1",
   "metadata": {},
   "outputs": [],
   "source": []
  }
 ],
 "metadata": {
  "kernelspec": {
   "display_name": "Python 3",
   "language": "python",
   "name": "python3"
  },
  "language_info": {
   "codemirror_mode": {
    "name": "ipython",
    "version": 3
   },
   "file_extension": ".py",
   "mimetype": "text/x-python",
   "name": "python",
   "nbconvert_exporter": "python",
   "pygments_lexer": "ipython3",
   "version": "3.9.5"
  }
 },
 "nbformat": 4,
 "nbformat_minor": 5
}
