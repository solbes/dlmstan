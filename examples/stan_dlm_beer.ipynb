{
 "cells": [
  {
   "cell_type": "code",
   "execution_count": null,
   "id": "b8235168",
   "metadata": {},
   "outputs": [],
   "source": [
    "import numpy as np\n",
    "from cmdstanpy import cmdstan_path, CmdStanModel\n",
    "from pathlib import Path\n",
    "import matplotlib.pyplot as plt\n",
    "import json\n",
    "import pandas as pd"
   ]
  },
  {
   "cell_type": "markdown",
   "id": "72c69611",
   "metadata": {},
   "source": [
    "## Beer cooling example\n",
    "\n",
    "At time t=0, a glass of beer is dropped to a bucket of cold water with given temperature. Beer is cooled by water and heated with the outside air that is at a given temperature. Beer temperature is measured every minute, and the goal is to infer the heat transfer coefficients through the glass and air, plus the model and observation noise standard deviations.\n",
    "\n",
    "We write the model as the following DLM system:\n",
    "\n",
    "<img src=\"https://latex.codecogs.com/svg.image?A&space;=&space;\\begin{bmatrix}1-\\theta_1&space;-&space;\\theta_2\\end{bmatrix},&space;\\&space;B&space;=&space;&space;\\begin{bmatrix}\\theta_1&space;&&space;\\theta_2&space;\\end{bmatrix},&space;\\&space;C&space;=&space;&space;\\begin{bmatrix}1&space;\\end{bmatrix},&space;\\&space;R&space;=&space;\\theta_3^2,&space;\\&space;Q&space;=&space;\\theta_4^2\" title=\"A = \\begin{bmatrix}1-\\theta_1 - \\theta_2\\end{bmatrix}, \\ B = \\begin{bmatrix}\\theta_1 & \\theta_2 \\end{bmatrix}, \\ C = \\begin{bmatrix}1 \\end{bmatrix}, \\ R = \\theta_3^2, \\ Q = \\theta_4^2\" align=\"left\"/>"
   ]
  },
  {
   "cell_type": "markdown",
   "id": "3fff64b1",
   "metadata": {},
   "source": [
    "### 1) Define the functions that build the needed matrices\n",
    "\n",
    "Here, we write a Stan functions block that builds the matrices given the parameters. Note that the noise parameters are separated from the \"other\" parameters so that we can assign priors separately for them (e.g. enforce positivity)."
   ]
  },
  {
   "cell_type": "code",
   "execution_count": null,
   "id": "224ae070",
   "metadata": {},
   "outputs": [],
   "source": [
    "beer_functions = \"\"\"\n",
    "functions {\n",
    "    matrix build_A(vector theta) {\n",
    "        matrix[1,1] A;\n",
    "        A[1,1] = 1-theta[1]-theta[2];\n",
    "        return A;\n",
    "    }\n",
    "    matrix build_B(vector theta) {\n",
    "        matrix[1,2] B;\n",
    "        B[1,1] = theta[1];\n",
    "        B[1,2] = theta[2];\n",
    "        return B;\n",
    "    }\n",
    "    matrix build_C(vector theta) {\n",
    "        matrix[1,1] C;\n",
    "        C[1,1] = 1;\n",
    "        return C;\n",
    "    }\n",
    "    matrix build_Q(vector noise_theta) {\n",
    "        matrix[1,1] Q;\n",
    "        Q[1,1] = square(noise_theta[1]);\n",
    "        return Q;\n",
    "    }\n",
    "    matrix build_R(vector noise_theta) {\n",
    "        matrix[1,1] R;\n",
    "        R[1,1] = square(noise_theta[2]);\n",
    "        return R;\n",
    "    }\n",
    "}\n",
    "\"\"\""
   ]
  },
  {
   "cell_type": "markdown",
   "id": "7120c6da",
   "metadata": {},
   "source": [
    "### 2) Compile the code with `CmdStanPy`\n",
    "\n",
    "First, we read the general DLM stan code and append the user-defined functions to the model file."
   ]
  },
  {
   "cell_type": "code",
   "execution_count": null,
   "id": "29bd7090",
   "metadata": {},
   "outputs": [],
   "source": [
    "dlm_code = Path('../dlm.stan').read_text()\n",
    "Path('beer.stan').write_text(beer_functions + dlm_code);\n",
    "beer_model = CmdStanModel(stan_file='beer.stan')"
   ]
  },
  {
   "cell_type": "markdown",
   "id": "f689682b",
   "metadata": {},
   "source": [
    "### 3) Construct the data\n",
    "\n",
    "The general DLM code always needs the same input data variables. Note that the vectors and matrices need to be given as python lists so that the serialization to JSON works."
   ]
  },
  {
   "cell_type": "code",
   "execution_count": null,
   "id": "e911b59b",
   "metadata": {},
   "outputs": [],
   "source": [
    "y = [28, 24, 20, 17.5, 15.5, 13.5, 12, 11, 10]\n",
    "\n",
    "beer_data = {\n",
    "    'N_obs': len(y),\n",
    "    'N_theta': 2,\n",
    "    'N_noise_theta': 2,\n",
    "    'state_dim': 1,\n",
    "    'input_dim': 2,\n",
    "    'obs_dim': 1,\n",
    "    'Y_obs': [[yi] for yi in y],\n",
    "    'U_obs': len(y)*[[5, 23]],\n",
    "    'm0': [31.0],\n",
    "    'P0': [[1**2]],\n",
    "    'theta_mu': [0, 0],\n",
    "    'theta_Sig': [[10**2, 0],[0, 10**2]],\n",
    "    'noise_mu': [0.2, 0.2],\n",
    "    'noise_Sig': [[0.2**2, 0], [0, 0.2**2]]\n",
    "}"
   ]
  },
  {
   "cell_type": "code",
   "execution_count": null,
   "id": "112e5224",
   "metadata": {},
   "outputs": [],
   "source": [
    "with open('beer_data.json', 'w') as f:\n",
    "    json.dump(beer_data, f)"
   ]
  },
  {
   "cell_type": "markdown",
   "id": "c08af0e9",
   "metadata": {},
   "source": [
    "### 4) Fit the model with HMC\n",
    "\n",
    "Save the output files to a separate output folder to keep things clean. Print the fit object to get some details about the files that were produced."
   ]
  },
  {
   "cell_type": "code",
   "execution_count": null,
   "id": "feef99db",
   "metadata": {},
   "outputs": [],
   "source": [
    "beer_fit = beer_model.sample(data='beer_data.json', output_dir='output')\n",
    "print(beer_fit)"
   ]
  },
  {
   "cell_type": "markdown",
   "id": "26153d51",
   "metadata": {},
   "source": [
    "### 5) Access the parameters and plot results\n",
    "\n",
    "Let us draw the sampled states and parameters. Sampled parameters can be accessed with `CmdStanPy`:s helper `stan_variable`."
   ]
  },
  {
   "cell_type": "code",
   "execution_count": null,
   "id": "8ff0ea39",
   "metadata": {},
   "outputs": [],
   "source": [
    "draws_noise = beer_fit.stan_variable('noise_theta')\n",
    "draws_theta = beer_fit.stan_variable('theta')\n",
    "draws_x = beer_fit.stan_variable('x_samples')"
   ]
  },
  {
   "cell_type": "code",
   "execution_count": null,
   "id": "44f9053b",
   "metadata": {},
   "outputs": [],
   "source": [
    "plt.figure(figsize=(7,4))\n",
    "\n",
    "plt.plot(range(len(y)), draws_x[0::10,:,0].T, c='0.5', alpha=0.2)\n",
    "plt.plot(range(len(y)), np.quantile(draws_x[0:,:,0].T, [0.025, 0.975], axis=1).T, 'k--')\n",
    "plt.plot(range(len(y)), np.quantile(draws_x[0:,:,0].T, 0.5, axis=1), 'k-')\n",
    "plt.plot(range(len(y)), y, 'r.')\n",
    "\n",
    "plt.grid(True)\n",
    "plt.show()"
   ]
  },
  {
   "cell_type": "code",
   "execution_count": null,
   "id": "7a50a3a3",
   "metadata": {},
   "outputs": [],
   "source": [
    "pd.plotting.scatter_matrix(pd.DataFrame(draws_theta));"
   ]
  },
  {
   "cell_type": "code",
   "execution_count": null,
   "id": "5e1dd76c",
   "metadata": {},
   "outputs": [],
   "source": [
    "pd.plotting.scatter_matrix(pd.DataFrame(draws_noise));"
   ]
  },
  {
   "cell_type": "markdown",
   "id": "91ce181e",
   "metadata": {},
   "source": [
    "### Notes on results\n",
    "\n",
    "- First parameter identified well, the other not (data does not even tell the sign of the coefficient)\n",
    "- Observation/model Noise parameters are impossible to identify separately, informative prior needed for one of the two"
   ]
  },
  {
   "cell_type": "code",
   "execution_count": null,
   "id": "20d95541",
   "metadata": {},
   "outputs": [],
   "source": []
  }
 ],
 "metadata": {
  "kernelspec": {
   "display_name": "Python 3 (ipykernel)",
   "language": "python",
   "name": "python3"
  },
  "language_info": {
   "codemirror_mode": {
    "name": "ipython",
    "version": 3
   },
   "file_extension": ".py",
   "mimetype": "text/x-python",
   "name": "python",
   "nbconvert_exporter": "python",
   "pygments_lexer": "ipython3",
   "version": "3.9.12"
  }
 },
 "nbformat": 4,
 "nbformat_minor": 5
}
